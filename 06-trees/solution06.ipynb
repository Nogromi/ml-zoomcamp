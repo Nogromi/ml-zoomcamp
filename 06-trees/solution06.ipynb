{
 "cells": [
  {
   "cell_type": "code",
   "execution_count": 1,
   "metadata": {},
   "outputs": [],
   "source": [
    "import pandas as pd\n",
    "import numpy as np\n",
    "from sklearn.model_selection import train_test_split\n",
    "from sklearn.feature_extraction import DictVectorizer\n",
    "from sklearn.linear_model import LogisticRegression\n",
    "from sklearn.metrics import     mean_squared_error\n",
    "\n",
    "\n",
    "import seaborn as sns\n",
    "import xgboost as xgb\n",
    "import matplotlib.pyplot as plt\n",
    "from tqdm.auto import tqdm\n",
    "from sklearn.tree import export_text\n",
    "\n",
    "\n",
    "%matplotlib inline"
   ]
  },
  {
   "cell_type": "code",
   "execution_count": 2,
   "metadata": {},
   "outputs": [
    {
     "name": "stdout",
     "output_type": "stream",
     "text": [
      "<class 'pandas.core.frame.DataFrame'>\n",
      "RangeIndex: 20640 entries, 0 to 20639\n",
      "Data columns (total 10 columns):\n",
      " #   Column              Non-Null Count  Dtype  \n",
      "---  ------              --------------  -----  \n",
      " 0   longitude           20640 non-null  float64\n",
      " 1   latitude            20640 non-null  float64\n",
      " 2   housing_median_age  20640 non-null  float64\n",
      " 3   total_rooms         20640 non-null  float64\n",
      " 4   total_bedrooms      20433 non-null  float64\n",
      " 5   population          20640 non-null  float64\n",
      " 6   households          20640 non-null  float64\n",
      " 7   median_income       20640 non-null  float64\n",
      " 8   median_house_value  20640 non-null  float64\n",
      " 9   ocean_proximity     20640 non-null  object \n",
      "dtypes: float64(9), object(1)\n",
      "memory usage: 1.6+ MB\n"
     ]
    }
   ],
   "source": [
    "df=pd.read_csv(\"housing.csv\")\n",
    "df.info()\n"
   ]
  },
  {
   "cell_type": "code",
   "execution_count": 3,
   "metadata": {},
   "outputs": [],
   "source": [
    "df=df[df['ocean_proximity'].isin(['<1H OCEAN', 'INLAND'])]\n",
    "# * Apply the log transform to `median_house_value`.\n",
    "df=df.fillna(0)\n",
    "\n",
    "df['median_house_value'] = df['median_house_value'].apply(lambda x: np.log1p(x))\n",
    "\n",
    "df_full_train, df_test = train_test_split(df, test_size=0.2, random_state=1)\n",
    "df_train, df_val = train_test_split(df_full_train, test_size=0.25, random_state=1)\n",
    "\n",
    "df_train = df_train.reset_index(drop=True)\n",
    "df_val = df_val.reset_index(drop=True)\n",
    "df_test = df_test.reset_index(drop=True)\n",
    "\n",
    "y_train = df_train.median_house_value.values\n",
    "y_val = df_val.median_house_value.values\n",
    "y_test = df_test.median_house_value.values"
   ]
  },
  {
   "cell_type": "code",
   "execution_count": 4,
   "metadata": {},
   "outputs": [
    {
     "name": "stdout",
     "output_type": "stream",
     "text": [
      "<class 'pandas.core.frame.DataFrame'>\n",
      "RangeIndex: 3138 entries, 0 to 3137\n",
      "Data columns (total 10 columns):\n",
      " #   Column              Non-Null Count  Dtype  \n",
      "---  ------              --------------  -----  \n",
      " 0   longitude           3138 non-null   float64\n",
      " 1   latitude            3138 non-null   float64\n",
      " 2   housing_median_age  3138 non-null   float64\n",
      " 3   total_rooms         3138 non-null   float64\n",
      " 4   total_bedrooms      3138 non-null   float64\n",
      " 5   population          3138 non-null   float64\n",
      " 6   households          3138 non-null   float64\n",
      " 7   median_income       3138 non-null   float64\n",
      " 8   median_house_value  3138 non-null   float64\n",
      " 9   ocean_proximity     3138 non-null   object \n",
      "dtypes: float64(9), object(1)\n",
      "memory usage: 245.3+ KB\n"
     ]
    }
   ],
   "source": [
    "df_val.info()\n"
   ]
  },
  {
   "cell_type": "code",
   "execution_count": 5,
   "metadata": {},
   "outputs": [],
   "source": [
    "del df_train['median_house_value']\n",
    "del df_val['median_house_value']\n",
    "del df_test['median_house_value']"
   ]
  },
  {
   "cell_type": "code",
   "execution_count": 6,
   "metadata": {},
   "outputs": [
    {
     "data": {
      "text/plain": [
       "((9411, 9), (3138, 9), (3138, 9))"
      ]
     },
     "execution_count": 6,
     "metadata": {},
     "output_type": "execute_result"
    }
   ],
   "source": [
    "df_train.shape, df_val.shape, df_test.shape"
   ]
  },
  {
   "cell_type": "code",
   "execution_count": 7,
   "metadata": {},
   "outputs": [],
   "source": [
    "train_dicts = df_train.to_dict(orient='records')\n",
    "dv = DictVectorizer()\n",
    "X_train = dv.fit_transform(train_dicts)"
   ]
  },
  {
   "cell_type": "markdown",
   "metadata": {},
   "source": [
    "# Decision  Tree"
   ]
  },
  {
   "cell_type": "code",
   "execution_count": 8,
   "metadata": {},
   "outputs": [],
   "source": [
    "from sklearn.tree import DecisionTreeRegressor\n",
    "dt_regressor = DecisionTreeRegressor(max_depth=1)\n",
    "dt_regressor.fit(X_train, y_train)\n",
    "val_dicts = df_val.to_dict(orient='records')\n",
    "X_val = dv.transform(val_dicts)\n"
   ]
  },
  {
   "cell_type": "markdown",
   "metadata": {},
   "source": [
    "# Question 1\n",
    "answer: ocean_proximity "
   ]
  },
  {
   "cell_type": "code",
   "execution_count": 9,
   "metadata": {},
   "outputs": [
    {
     "name": "stdout",
     "output_type": "stream",
     "text": [
      "|--- ocean_proximity=<1H OCEAN <= 0.50\n",
      "|   |--- value: [11.61]\n",
      "|--- ocean_proximity=<1H OCEAN >  0.50\n",
      "|   |--- value: [12.30]\n",
      "\n"
     ]
    }
   ],
   "source": [
    "from sklearn.tree import export_text\n",
    "print(export_text(dt_regressor, feature_names=list(dv.get_feature_names_out())))\n"
   ]
  },
  {
   "cell_type": "code",
   "execution_count": 10,
   "metadata": {},
   "outputs": [],
   "source": [
    "y_pred = dt_regressor.predict(X_val)"
   ]
  },
  {
   "cell_type": "markdown",
   "metadata": {},
   "source": [
    "# Question 2\n",
    "answer: 0.245"
   ]
  },
  {
   "cell_type": "markdown",
   "metadata": {},
   "source": [
    "# Random Forest"
   ]
  },
  {
   "cell_type": "code",
   "execution_count": 11,
   "metadata": {},
   "outputs": [
    {
     "data": {
      "text/plain": [
       "0.245"
      ]
     },
     "execution_count": 11,
     "metadata": {},
     "output_type": "execute_result"
    }
   ],
   "source": [
    "from sklearn.ensemble import RandomForestRegressor\n",
    "rf_params={ \"n_estimators\":10,\n",
    "           \"random_state\": 1,\n",
    "           \"n_jobs\": -1}\n",
    "rf_regressor = RandomForestRegressor(**rf_params)\n",
    "rf_regressor.fit(X_train, y_train)\n",
    "y_pred = rf_regressor.predict(X_val)\n",
    "round(mean_squared_error(y_val, y_pred, squared=False),3)\n",
    "\n"
   ]
  },
  {
   "cell_type": "markdown",
   "metadata": {},
   "source": [
    "\n",
    "# Question 3\n",
    "Answer :160"
   ]
  },
  {
   "cell_type": "code",
   "execution_count": 12,
   "metadata": {},
   "outputs": [
    {
     "name": "stdout",
     "output_type": "stream",
     "text": [
      "  10 -> 0.245\n",
      "  20 -> 0.239\n",
      "  30 -> 0.237\n",
      "  40 -> 0.236\n",
      "  50 -> 0.235\n",
      "  60 -> 0.235\n",
      "  70 -> 0.234\n",
      "  80 -> 0.235\n",
      "  90 -> 0.235\n",
      " 100 -> 0.234\n",
      " 110 -> 0.234\n",
      " 120 -> 0.234\n",
      " 130 -> 0.234\n",
      " 140 -> 0.234\n",
      " 150 -> 0.234\n",
      " 160 -> 0.233\n",
      " 170 -> 0.233\n",
      " 180 -> 0.234\n",
      " 190 -> 0.234\n",
      " 200 -> 0.234\n"
     ]
    },
    {
     "data": {
      "text/html": [
       "<div>\n",
       "<style scoped>\n",
       "    .dataframe tbody tr th:only-of-type {\n",
       "        vertical-align: middle;\n",
       "    }\n",
       "\n",
       "    .dataframe tbody tr th {\n",
       "        vertical-align: top;\n",
       "    }\n",
       "\n",
       "    .dataframe thead th {\n",
       "        text-align: right;\n",
       "    }\n",
       "</style>\n",
       "<table border=\"1\" class=\"dataframe\">\n",
       "  <thead>\n",
       "    <tr style=\"text-align: right;\">\n",
       "      <th></th>\n",
       "      <th>n_estimators</th>\n",
       "      <th>RMSE</th>\n",
       "    </tr>\n",
       "  </thead>\n",
       "  <tbody>\n",
       "    <tr>\n",
       "      <th>0</th>\n",
       "      <td>10</td>\n",
       "      <td>0.245</td>\n",
       "    </tr>\n",
       "    <tr>\n",
       "      <th>1</th>\n",
       "      <td>20</td>\n",
       "      <td>0.239</td>\n",
       "    </tr>\n",
       "    <tr>\n",
       "      <th>2</th>\n",
       "      <td>30</td>\n",
       "      <td>0.237</td>\n",
       "    </tr>\n",
       "    <tr>\n",
       "      <th>3</th>\n",
       "      <td>40</td>\n",
       "      <td>0.236</td>\n",
       "    </tr>\n",
       "    <tr>\n",
       "      <th>4</th>\n",
       "      <td>50</td>\n",
       "      <td>0.235</td>\n",
       "    </tr>\n",
       "    <tr>\n",
       "      <th>5</th>\n",
       "      <td>60</td>\n",
       "      <td>0.235</td>\n",
       "    </tr>\n",
       "    <tr>\n",
       "      <th>6</th>\n",
       "      <td>70</td>\n",
       "      <td>0.234</td>\n",
       "    </tr>\n",
       "    <tr>\n",
       "      <th>7</th>\n",
       "      <td>80</td>\n",
       "      <td>0.235</td>\n",
       "    </tr>\n",
       "    <tr>\n",
       "      <th>8</th>\n",
       "      <td>90</td>\n",
       "      <td>0.235</td>\n",
       "    </tr>\n",
       "    <tr>\n",
       "      <th>9</th>\n",
       "      <td>100</td>\n",
       "      <td>0.234</td>\n",
       "    </tr>\n",
       "    <tr>\n",
       "      <th>10</th>\n",
       "      <td>110</td>\n",
       "      <td>0.234</td>\n",
       "    </tr>\n",
       "    <tr>\n",
       "      <th>11</th>\n",
       "      <td>120</td>\n",
       "      <td>0.234</td>\n",
       "    </tr>\n",
       "    <tr>\n",
       "      <th>12</th>\n",
       "      <td>130</td>\n",
       "      <td>0.234</td>\n",
       "    </tr>\n",
       "    <tr>\n",
       "      <th>13</th>\n",
       "      <td>140</td>\n",
       "      <td>0.234</td>\n",
       "    </tr>\n",
       "    <tr>\n",
       "      <th>14</th>\n",
       "      <td>150</td>\n",
       "      <td>0.234</td>\n",
       "    </tr>\n",
       "    <tr>\n",
       "      <th>15</th>\n",
       "      <td>160</td>\n",
       "      <td>0.233</td>\n",
       "    </tr>\n",
       "    <tr>\n",
       "      <th>16</th>\n",
       "      <td>170</td>\n",
       "      <td>0.233</td>\n",
       "    </tr>\n",
       "    <tr>\n",
       "      <th>17</th>\n",
       "      <td>180</td>\n",
       "      <td>0.234</td>\n",
       "    </tr>\n",
       "    <tr>\n",
       "      <th>18</th>\n",
       "      <td>190</td>\n",
       "      <td>0.234</td>\n",
       "    </tr>\n",
       "    <tr>\n",
       "      <th>19</th>\n",
       "      <td>200</td>\n",
       "      <td>0.234</td>\n",
       "    </tr>\n",
       "  </tbody>\n",
       "</table>\n",
       "</div>"
      ],
      "text/plain": [
       "    n_estimators   RMSE\n",
       "0             10  0.245\n",
       "1             20  0.239\n",
       "2             30  0.237\n",
       "3             40  0.236\n",
       "4             50  0.235\n",
       "5             60  0.235\n",
       "6             70  0.234\n",
       "7             80  0.235\n",
       "8             90  0.235\n",
       "9            100  0.234\n",
       "10           110  0.234\n",
       "11           120  0.234\n",
       "12           130  0.234\n",
       "13           140  0.234\n",
       "14           150  0.234\n",
       "15           160  0.233\n",
       "16           170  0.233\n",
       "17           180  0.234\n",
       "18           190  0.234\n",
       "19           200  0.234"
      ]
     },
     "execution_count": 12,
     "metadata": {},
     "output_type": "execute_result"
    }
   ],
   "source": [
    "\n",
    "scores = []\n",
    "range_n_estimators = np.arange(10, 210, 10)\n",
    "\n",
    "for n_est in range_n_estimators:\n",
    "    rf_params={ \"n_estimators\":n_est,\n",
    "           \"random_state\": 1,\n",
    "           \"n_jobs\": -1}\n",
    "    rf_regressor = RandomForestRegressor(**rf_params)\n",
    "    rf_regressor.fit(X_train, y_train)\n",
    "    y_pred = rf_regressor.predict(X_val)\n",
    "    rmse=round(mean_squared_error(y_val, y_pred, squared=False),3)\n",
    "    scores.append((n_est,rmse))\n",
    "\n",
    "    print('%4s -> %.3f' % (n_est, rmse))\n",
    "\n",
    "       \n",
    "df_scores = pd.DataFrame(scores, columns=['n_estimators', 'RMSE'])\n",
    "df_scores\n"
   ]
  },
  {
   "cell_type": "code",
   "execution_count": 13,
   "metadata": {},
   "outputs": [
    {
     "data": {
      "image/png": "[encoded data removed]",
      "text/plain": [
       "<Figure size 640x480 with 1 Axes>"
      ]
     },
     "metadata": {},
     "output_type": "display_data"
    }
   ],
   "source": [
    "#@ INSPECTING THE RMSE SCORES:\n",
    "\n",
    "plt.plot(df_scores.n_estimators, df_scores.RMSE, label='r_mse')\n",
    "plt.xlabel(\"n_estimators\")\n",
    "plt.ylabel(\"RMSE\")\n",
    "plt.xlim((45,200))\n",
    "plt.legend();"
   ]
  },
  {
   "cell_type": "markdown",
   "metadata": {},
   "source": [
    "\n",
    "# Question 4\n",
    "answer 25"
   ]
  },
  {
   "cell_type": "code",
   "execution_count": 14,
   "metadata": {},
   "outputs": [
    {
     "name": "stdout",
     "output_type": "stream",
     "text": [
      "max_depth 10 estimators:   10-> 0.251\n",
      "max_depth 10 estimators:   20-> 0.248\n",
      "max_depth 10 estimators:   30-> 0.246\n",
      "max_depth 10 estimators:   40-> 0.245\n",
      "max_depth 10 estimators:   50-> 0.246\n",
      "max_depth 10 estimators:   60-> 0.245\n",
      "max_depth 10 estimators:   70-> 0.245\n",
      "max_depth 10 estimators:   80-> 0.246\n",
      "max_depth 10 estimators:   90-> 0.246\n",
      "max_depth 10 estimators:  100-> 0.245\n",
      "max_depth 10 estimators:  110-> 0.245\n",
      "max_depth 10 estimators:  120-> 0.245\n",
      "max_depth 10 estimators:  130-> 0.245\n",
      "max_depth 10 estimators:  140-> 0.245\n",
      "max_depth 10 estimators:  150-> 0.245\n",
      "max_depth 10 estimators:  160-> 0.245\n",
      "max_depth 10 estimators:  170-> 0.244\n",
      "max_depth 10 estimators:  180-> 0.245\n",
      "max_depth 10 estimators:  190-> 0.245\n",
      "max_depth 10 estimators:  200-> 0.245\n",
      "max_depth 15 estimators:   10-> 0.246\n",
      "max_depth 15 estimators:   20-> 0.240\n",
      "max_depth 15 estimators:   30-> 0.238\n",
      "max_depth 15 estimators:   40-> 0.236\n",
      "max_depth 15 estimators:   50-> 0.236\n",
      "max_depth 15 estimators:   60-> 0.236\n",
      "max_depth 15 estimators:   70-> 0.236\n",
      "max_depth 15 estimators:   80-> 0.236\n",
      "max_depth 15 estimators:   90-> 0.235\n",
      "max_depth 15 estimators:  100-> 0.235\n",
      "max_depth 15 estimators:  110-> 0.235\n",
      "max_depth 15 estimators:  120-> 0.235\n",
      "max_depth 15 estimators:  130-> 0.235\n",
      "max_depth 15 estimators:  140-> 0.235\n",
      "max_depth 15 estimators:  150-> 0.235\n",
      "max_depth 15 estimators:  160-> 0.234\n",
      "max_depth 15 estimators:  170-> 0.234\n",
      "max_depth 15 estimators:  180-> 0.235\n",
      "max_depth 15 estimators:  190-> 0.235\n",
      "max_depth 15 estimators:  200-> 0.235\n",
      "max_depth 20 estimators:   10-> 0.245\n",
      "max_depth 20 estimators:   20-> 0.239\n",
      "max_depth 20 estimators:   30-> 0.237\n",
      "max_depth 20 estimators:   40-> 0.235\n",
      "max_depth 20 estimators:   50-> 0.235\n",
      "max_depth 20 estimators:   60-> 0.235\n",
      "max_depth 20 estimators:   70-> 0.235\n",
      "max_depth 20 estimators:   80-> 0.235\n",
      "max_depth 20 estimators:   90-> 0.235\n",
      "max_depth 20 estimators:  100-> 0.235\n",
      "max_depth 20 estimators:  110-> 0.234\n",
      "max_depth 20 estimators:  120-> 0.234\n",
      "max_depth 20 estimators:  130-> 0.234\n",
      "max_depth 20 estimators:  140-> 0.234\n",
      "max_depth 20 estimators:  150-> 0.234\n",
      "max_depth 20 estimators:  160-> 0.234\n",
      "max_depth 20 estimators:  170-> 0.234\n",
      "max_depth 20 estimators:  180-> 0.234\n",
      "max_depth 20 estimators:  190-> 0.234\n",
      "max_depth 20 estimators:  200-> 0.234\n",
      "max_depth 25 estimators:   10-> 0.244\n",
      "max_depth 25 estimators:   20-> 0.238\n",
      "max_depth 25 estimators:   30-> 0.236\n",
      "max_depth 25 estimators:   40-> 0.235\n",
      "max_depth 25 estimators:   50-> 0.234\n",
      "max_depth 25 estimators:   60-> 0.234\n",
      "max_depth 25 estimators:   70-> 0.234\n",
      "max_depth 25 estimators:   80-> 0.234\n",
      "max_depth 25 estimators:   90-> 0.234\n",
      "max_depth 25 estimators:  100-> 0.234\n",
      "max_depth 25 estimators:  110-> 0.234\n",
      "max_depth 25 estimators:  120-> 0.234\n",
      "max_depth 25 estimators:  130-> 0.234\n",
      "max_depth 25 estimators:  140-> 0.234\n",
      "max_depth 25 estimators:  150-> 0.234\n",
      "max_depth 25 estimators:  160-> 0.233\n",
      "max_depth 25 estimators:  170-> 0.233\n",
      "max_depth 25 estimators:  180-> 0.234\n",
      "max_depth 25 estimators:  190-> 0.234\n",
      "max_depth 25 estimators:  200-> 0.234\n"
     ]
    },
    {
     "data": {
      "text/html": [
       "<div>\n",
       "<style scoped>\n",
       "    .dataframe tbody tr th:only-of-type {\n",
       "        vertical-align: middle;\n",
       "    }\n",
       "\n",
       "    .dataframe tbody tr th {\n",
       "        vertical-align: top;\n",
       "    }\n",
       "\n",
       "    .dataframe thead th {\n",
       "        text-align: right;\n",
       "    }\n",
       "</style>\n",
       "<table border=\"1\" class=\"dataframe\">\n",
       "  <thead>\n",
       "    <tr style=\"text-align: right;\">\n",
       "      <th></th>\n",
       "      <th>max_depth</th>\n",
       "      <th>n_estimators</th>\n",
       "      <th>RMSE</th>\n",
       "    </tr>\n",
       "  </thead>\n",
       "  <tbody>\n",
       "    <tr>\n",
       "      <th>0</th>\n",
       "      <td>10</td>\n",
       "      <td>10</td>\n",
       "      <td>0.251</td>\n",
       "    </tr>\n",
       "    <tr>\n",
       "      <th>1</th>\n",
       "      <td>10</td>\n",
       "      <td>20</td>\n",
       "      <td>0.248</td>\n",
       "    </tr>\n",
       "    <tr>\n",
       "      <th>2</th>\n",
       "      <td>10</td>\n",
       "      <td>30</td>\n",
       "      <td>0.246</td>\n",
       "    </tr>\n",
       "    <tr>\n",
       "      <th>3</th>\n",
       "      <td>10</td>\n",
       "      <td>40</td>\n",
       "      <td>0.245</td>\n",
       "    </tr>\n",
       "    <tr>\n",
       "      <th>4</th>\n",
       "      <td>10</td>\n",
       "      <td>50</td>\n",
       "      <td>0.246</td>\n",
       "    </tr>\n",
       "    <tr>\n",
       "      <th>...</th>\n",
       "      <td>...</td>\n",
       "      <td>...</td>\n",
       "      <td>...</td>\n",
       "    </tr>\n",
       "    <tr>\n",
       "      <th>75</th>\n",
       "      <td>25</td>\n",
       "      <td>160</td>\n",
       "      <td>0.233</td>\n",
       "    </tr>\n",
       "    <tr>\n",
       "      <th>76</th>\n",
       "      <td>25</td>\n",
       "      <td>170</td>\n",
       "      <td>0.233</td>\n",
       "    </tr>\n",
       "    <tr>\n",
       "      <th>77</th>\n",
       "      <td>25</td>\n",
       "      <td>180</td>\n",
       "      <td>0.234</td>\n",
       "    </tr>\n",
       "    <tr>\n",
       "      <th>78</th>\n",
       "      <td>25</td>\n",
       "      <td>190</td>\n",
       "      <td>0.234</td>\n",
       "    </tr>\n",
       "    <tr>\n",
       "      <th>79</th>\n",
       "      <td>25</td>\n",
       "      <td>200</td>\n",
       "      <td>0.234</td>\n",
       "    </tr>\n",
       "  </tbody>\n",
       "</table>\n",
       "<p>80 rows × 3 columns</p>\n",
       "</div>"
      ],
      "text/plain": [
       "    max_depth  n_estimators   RMSE\n",
       "0          10            10  0.251\n",
       "1          10            20  0.248\n",
       "2          10            30  0.246\n",
       "3          10            40  0.245\n",
       "4          10            50  0.246\n",
       "..        ...           ...    ...\n",
       "75         25           160  0.233\n",
       "76         25           170  0.233\n",
       "77         25           180  0.234\n",
       "78         25           190  0.234\n",
       "79         25           200  0.234\n",
       "\n",
       "[80 rows x 3 columns]"
      ]
     },
     "execution_count": 14,
     "metadata": {},
     "output_type": "execute_result"
    }
   ],
   "source": [
    "scores = []\n",
    "max_depths=[10, 15, 20, 25]\n",
    "range_n_estimators = np.arange(10, 210, 10)\n",
    "\n",
    "for m_dpth in max_depths:\n",
    "    for n_est in range_n_estimators:\n",
    "        rf_params={ \"n_estimators\":n_est,\n",
    "            \"max_depth\":m_dpth,\n",
    "            \"random_state\": 1,\n",
    "            \"n_jobs\": -1}\n",
    "        rf_regressor = RandomForestRegressor(**rf_params)\n",
    "        rf_regressor.fit(X_train, y_train)\n",
    "        y_pred = rf_regressor.predict(X_val)\n",
    "        rmse=round(mean_squared_error(y_val, y_pred, squared=False),3)\n",
    "        scores.append((m_dpth,n_est,rmse))\n",
    "\n",
    "        print('max_depth %2s estimators: %4s-> %.3f' % (m_dpth,n_est, rmse))\n",
    "\n",
    "\n",
    "       \n",
    "df_scores2 = pd.DataFrame(scores, columns=['max_depth','n_estimators', 'RMSE'])\n",
    "df_scores2\n"
   ]
  },
  {
   "cell_type": "code",
   "execution_count": 15,
   "metadata": {},
   "outputs": [
    {
     "data": {
      "text/html": [
       "<div>\n",
       "<style scoped>\n",
       "    .dataframe tbody tr th:only-of-type {\n",
       "        vertical-align: middle;\n",
       "    }\n",
       "\n",
       "    .dataframe tbody tr th {\n",
       "        vertical-align: top;\n",
       "    }\n",
       "\n",
       "    .dataframe thead th {\n",
       "        text-align: right;\n",
       "    }\n",
       "</style>\n",
       "<table border=\"1\" class=\"dataframe\">\n",
       "  <thead>\n",
       "    <tr style=\"text-align: right;\">\n",
       "      <th></th>\n",
       "      <th>max_depth</th>\n",
       "      <th>n_estimators</th>\n",
       "      <th>RMSE</th>\n",
       "    </tr>\n",
       "  </thead>\n",
       "  <tbody>\n",
       "    <tr>\n",
       "      <th>75</th>\n",
       "      <td>25</td>\n",
       "      <td>160</td>\n",
       "      <td>0.233</td>\n",
       "    </tr>\n",
       "    <tr>\n",
       "      <th>76</th>\n",
       "      <td>25</td>\n",
       "      <td>170</td>\n",
       "      <td>0.233</td>\n",
       "    </tr>\n",
       "  </tbody>\n",
       "</table>\n",
       "</div>"
      ],
      "text/plain": [
       "    max_depth  n_estimators   RMSE\n",
       "75         25           160  0.233\n",
       "76         25           170  0.233"
      ]
     },
     "execution_count": 15,
     "metadata": {},
     "output_type": "execute_result"
    }
   ],
   "source": [
    "df_scores2[df_scores2['RMSE']==df_scores2['RMSE'].min()]"
   ]
  },
  {
   "cell_type": "code",
   "execution_count": 16,
   "metadata": {},
   "outputs": [
    {
     "data": {
      "text/plain": [
       "<matplotlib.legend.Legend at 0x2249b65e4c0>"
      ]
     },
     "execution_count": 16,
     "metadata": {},
     "output_type": "execute_result"
    },
    {
     "data": {
      "image/png": "[encoded data removed]",
      "text/plain": [
       "<Figure size 640x480 with 1 Axes>"
      ]
     },
     "metadata": {},
     "output_type": "display_data"
    }
   ],
   "source": [
    "colors = ['black', 'blue', 'orange', 'red']\n",
    "\n",
    "for dep, col in zip(max_depths, colors):\n",
    "    df_subset = df_scores2[df_scores2.max_depth == dep]\n",
    "    \n",
    "    plt.plot(df_subset.n_estimators, df_subset.RMSE,\n",
    "             color=col,\n",
    "             label='max_depth=%d' % dep)\n",
    "    plt.xlabel(\"n_estimators\")\n",
    "    plt.ylabel(\"RMSE\")\n",
    "\n",
    "plt.legend()"
   ]
  },
  {
   "cell_type": "markdown",
   "metadata": {},
   "source": [
    "# Question 5\n",
    "answer median_income                "
   ]
  },
  {
   "cell_type": "code",
   "execution_count": 17,
   "metadata": {},
   "outputs": [
    {
     "name": "stdout",
     "output_type": "stream",
     "text": [
      "0.245\n"
     ]
    }
   ],
   "source": [
    "rf_params={ \"n_estimators\":10,\n",
    "            \"max_depth\":20,\n",
    "            \"random_state\": 1,\n",
    "            \"n_jobs\": -1}\n",
    "\n",
    "rf_regressor = RandomForestRegressor(**rf_params)\n",
    "rf_regressor.fit(X_train, y_train)\n",
    "y_pred = rf_regressor.predict(X_val)\n",
    "rmse=round(mean_squared_error(y_val, y_pred, squared=False),3)\n",
    "print(rmse)"
   ]
  },
  {
   "cell_type": "code",
   "execution_count": 19,
   "metadata": {},
   "outputs": [
    {
     "data": {
      "text/plain": [
       "<Axes: >"
      ]
     },
     "execution_count": 19,
     "metadata": {},
     "output_type": "execute_result"
    },
    {
     "data": {
      "image/png": "[encoded data removed]",
      "text/plain": [
       "<Figure size 640x480 with 1 Axes>"
      ]
     },
     "metadata": {},
     "output_type": "display_data"
    }
   ],
   "source": [
    "importances = rf_regressor.feature_importances_\n",
    "forest_importances = pd.Series(importances, index= dv.feature_names_)\n",
    "forest_importances.plot.bar()\n",
    "         "
   ]
  },
  {
   "cell_type": "code",
   "execution_count": 20,
   "metadata": {},
   "outputs": [
    {
     "data": {
      "text/plain": [
       "median_income                0.335611\n",
       "ocean_proximity=<1H OCEAN    0.292473\n",
       "latitude                     0.102007\n",
       "longitude                    0.086244\n",
       "ocean_proximity=INLAND       0.073806\n",
       "housing_median_age           0.030317\n",
       "population                   0.027136\n",
       "total_rooms                  0.021417\n",
       "total_bedrooms               0.015852\n",
       "households                   0.015136\n",
       "dtype: float64"
      ]
     },
     "execution_count": 20,
     "metadata": {},
     "output_type": "execute_result"
    }
   ],
   "source": [
    "forest_importances.sort_values(ascending=False)"
   ]
  },
  {
   "cell_type": "markdown",
   "metadata": {},
   "source": [
    "# Question 6\n",
    "answer 'eta': 0.3"
   ]
  },
  {
   "cell_type": "code",
   "execution_count": 21,
   "metadata": {},
   "outputs": [],
   "source": [
    "import xgboost as xgb\n",
    "\n",
    "features = dv.feature_names_\n",
    "features=[i.replace(\"=<\",\"less_eq_\") for i in features]\n",
    "\n",
    "dtrain = xgb.DMatrix(X_train, label=y_train, feature_names=features)\n",
    "dval = xgb.DMatrix(X_val, label=y_val, feature_names=features)\n",
    "watchlist = [(dtrain, 'train'), (dval, 'val')]\n"
   ]
  },
  {
   "cell_type": "code",
   "execution_count": 22,
   "metadata": {},
   "outputs": [
    {
     "name": "stdout",
     "output_type": "stream",
     "text": [
      "[0]\ttrain-rmse:0.44350\tval-rmse:0.44250\n",
      "[1]\ttrain-rmse:0.36599\tval-rmse:0.36916\n",
      "[2]\ttrain-rmse:0.31556\tval-rmse:0.32382\n",
      "[3]\ttrain-rmse:0.28541\tval-rmse:0.29965\n",
      "[4]\ttrain-rmse:0.26573\tval-rmse:0.28417\n",
      "[5]\ttrain-rmse:0.25338\tval-rmse:0.27463\n",
      "[6]\ttrain-rmse:0.24157\tval-rmse:0.26770\n",
      "[7]\ttrain-rmse:0.23486\tval-rmse:0.26423\n",
      "[8]\ttrain-rmse:0.22668\tval-rmse:0.25820\n",
      "[9]\ttrain-rmse:0.21995\tval-rmse:0.25444\n",
      "[10]\ttrain-rmse:0.21444\tval-rmse:0.25179\n",
      "[11]\ttrain-rmse:0.21155\tval-rmse:0.25054\n",
      "[12]\ttrain-rmse:0.20729\tval-rmse:0.24791\n",
      "[13]\ttrain-rmse:0.20317\tval-rmse:0.24628\n",
      "[14]\ttrain-rmse:0.20135\tval-rmse:0.24630\n"
     ]
    },
    {
     "name": "stdout",
     "output_type": "stream",
     "text": [
      "[15]\ttrain-rmse:0.19858\tval-rmse:0.24522\n",
      "[16]\ttrain-rmse:0.19580\tval-rmse:0.24445\n",
      "[17]\ttrain-rmse:0.19333\tval-rmse:0.24395\n",
      "[18]\ttrain-rmse:0.19107\tval-rmse:0.24284\n",
      "[19]\ttrain-rmse:0.18735\tval-rmse:0.24127\n",
      "[20]\ttrain-rmse:0.18524\tval-rmse:0.23978\n",
      "[21]\ttrain-rmse:0.18332\tval-rmse:0.23963\n",
      "[22]\ttrain-rmse:0.18189\tval-rmse:0.23892\n",
      "[23]\ttrain-rmse:0.18006\tval-rmse:0.23847\n",
      "[24]\ttrain-rmse:0.17869\tval-rmse:0.23847\n",
      "[25]\ttrain-rmse:0.17757\tval-rmse:0.23830\n",
      "[26]\ttrain-rmse:0.17520\tval-rmse:0.23862\n",
      "[27]\ttrain-rmse:0.17430\tval-rmse:0.23807\n",
      "[28]\ttrain-rmse:0.17281\tval-rmse:0.23793\n",
      "[29]\ttrain-rmse:0.17091\tval-rmse:0.23683\n",
      "[30]\ttrain-rmse:0.16888\tval-rmse:0.23570\n",
      "[31]\ttrain-rmse:0.16727\tval-rmse:0.23505\n",
      "[32]\ttrain-rmse:0.16553\tval-rmse:0.23494\n",
      "[33]\ttrain-rmse:0.16453\tval-rmse:0.23476\n",
      "[34]\ttrain-rmse:0.16292\tval-rmse:0.23490\n",
      "[35]\ttrain-rmse:0.16113\tval-rmse:0.23416\n",
      "[36]\ttrain-rmse:0.15969\tval-rmse:0.23402\n",
      "[37]\ttrain-rmse:0.15859\tval-rmse:0.23362\n",
      "[38]\ttrain-rmse:0.15726\tval-rmse:0.23393\n",
      "[39]\ttrain-rmse:0.15663\tval-rmse:0.23383\n",
      "[40]\ttrain-rmse:0.15542\tval-rmse:0.23318\n",
      "[41]\ttrain-rmse:0.15426\tval-rmse:0.23300\n",
      "[42]\ttrain-rmse:0.15289\tval-rmse:0.23266\n",
      "[43]\ttrain-rmse:0.15189\tval-rmse:0.23252\n",
      "[44]\ttrain-rmse:0.15092\tval-rmse:0.23252\n",
      "[45]\ttrain-rmse:0.14941\tval-rmse:0.23190\n",
      "[46]\ttrain-rmse:0.14856\tval-rmse:0.23178\n",
      "[47]\ttrain-rmse:0.14742\tval-rmse:0.23183\n",
      "[48]\ttrain-rmse:0.14683\tval-rmse:0.23198\n",
      "[49]\ttrain-rmse:0.14629\tval-rmse:0.23206\n",
      "[50]\ttrain-rmse:0.14536\tval-rmse:0.23225\n",
      "[51]\ttrain-rmse:0.14450\tval-rmse:0.23225\n",
      "[52]\ttrain-rmse:0.14353\tval-rmse:0.23223\n",
      "[53]\ttrain-rmse:0.14276\tval-rmse:0.23199\n",
      "[54]\ttrain-rmse:0.14180\tval-rmse:0.23194\n",
      "[55]\ttrain-rmse:0.14150\tval-rmse:0.23197\n",
      "[56]\ttrain-rmse:0.14085\tval-rmse:0.23189\n",
      "[57]\ttrain-rmse:0.14020\tval-rmse:0.23177\n",
      "[58]\ttrain-rmse:0.13931\tval-rmse:0.23175\n",
      "[59]\ttrain-rmse:0.13816\tval-rmse:0.23148\n",
      "[60]\ttrain-rmse:0.13719\tval-rmse:0.23139\n",
      "[61]\ttrain-rmse:0.13640\tval-rmse:0.23179\n",
      "[62]\ttrain-rmse:0.13566\tval-rmse:0.23160\n",
      "[63]\ttrain-rmse:0.13439\tval-rmse:0.23151\n",
      "[64]\ttrain-rmse:0.13358\tval-rmse:0.23153\n",
      "[65]\ttrain-rmse:0.13259\tval-rmse:0.23158\n",
      "[66]\ttrain-rmse:0.13197\tval-rmse:0.23144\n",
      "[67]\ttrain-rmse:0.13175\tval-rmse:0.23148\n",
      "[68]\ttrain-rmse:0.13117\tval-rmse:0.23148\n",
      "[69]\ttrain-rmse:0.13046\tval-rmse:0.23137\n",
      "[70]\ttrain-rmse:0.12943\tval-rmse:0.23068\n",
      "[71]\ttrain-rmse:0.12894\tval-rmse:0.23064\n",
      "[72]\ttrain-rmse:0.12854\tval-rmse:0.23082\n",
      "[73]\ttrain-rmse:0.12741\tval-rmse:0.23059\n",
      "[74]\ttrain-rmse:0.12635\tval-rmse:0.23048\n",
      "[75]\ttrain-rmse:0.12555\tval-rmse:0.23039\n",
      "[76]\ttrain-rmse:0.12395\tval-rmse:0.22935\n",
      "[77]\ttrain-rmse:0.12342\tval-rmse:0.22941\n",
      "[78]\ttrain-rmse:0.12255\tval-rmse:0.22913\n",
      "[79]\ttrain-rmse:0.12220\tval-rmse:0.22889\n",
      "[80]\ttrain-rmse:0.12192\tval-rmse:0.22886\n",
      "[81]\ttrain-rmse:0.12126\tval-rmse:0.22903\n",
      "[82]\ttrain-rmse:0.12056\tval-rmse:0.22891\n",
      "[83]\ttrain-rmse:0.11995\tval-rmse:0.22885\n",
      "[84]\ttrain-rmse:0.11922\tval-rmse:0.22893\n",
      "[85]\ttrain-rmse:0.11854\tval-rmse:0.22888\n",
      "[86]\ttrain-rmse:0.11781\tval-rmse:0.22899\n",
      "[87]\ttrain-rmse:0.11692\tval-rmse:0.22908\n",
      "[88]\ttrain-rmse:0.11613\tval-rmse:0.22905\n",
      "[89]\ttrain-rmse:0.11557\tval-rmse:0.22886\n",
      "[90]\ttrain-rmse:0.11496\tval-rmse:0.22861\n",
      "[91]\ttrain-rmse:0.11461\tval-rmse:0.22874\n",
      "[92]\ttrain-rmse:0.11386\tval-rmse:0.22887\n",
      "[93]\ttrain-rmse:0.11342\tval-rmse:0.22895\n",
      "[94]\ttrain-rmse:0.11281\tval-rmse:0.22904\n",
      "[95]\ttrain-rmse:0.11211\tval-rmse:0.22908\n",
      "[96]\ttrain-rmse:0.11139\tval-rmse:0.22875\n",
      "[97]\ttrain-rmse:0.11089\tval-rmse:0.22864\n",
      "[98]\ttrain-rmse:0.11041\tval-rmse:0.22868\n",
      "[99]\ttrain-rmse:0.10989\tval-rmse:0.22862\n"
     ]
    },
    {
     "data": {
      "text/plain": [
       "0.228623199980106"
      ]
     },
     "execution_count": 22,
     "metadata": {},
     "output_type": "execute_result"
    }
   ],
   "source": [
    "#  'eta': 0.3, \n",
    "xgb_params = {\n",
    "    'eta': 0.3, \n",
    "    'max_depth': 6,\n",
    "    'min_child_weight': 1,\n",
    "    \n",
    "    'objective': 'reg:squarederror',\n",
    "    'nthread': 8,\n",
    "    \n",
    "    'seed': 1,\n",
    "    'verbosity': 1,\n",
    "}\n",
    "\n",
    "model = xgb.train(xgb_params, dtrain, num_boost_round=100, evals=watchlist)\n",
    "y_pred = model.predict(dval)\n",
    "rmse = mean_squared_error(y_val,y_pred, squared= False)\n",
    "rmse"
   ]
  },
  {
   "cell_type": "code",
   "execution_count": 23,
   "metadata": {},
   "outputs": [
    {
     "name": "stdout",
     "output_type": "stream",
     "text": [
      "[0]\ttrain-rmse:0.52449\tval-rmse:0.52045\n",
      "[1]\ttrain-rmse:0.48736\tval-rmse:0.48443\n",
      "[2]\ttrain-rmse:0.45433\tval-rmse:0.45293\n",
      "[3]\ttrain-rmse:0.42533\tval-rmse:0.42550\n",
      "[4]\ttrain-rmse:0.39987\tval-rmse:0.40144\n",
      "[5]\ttrain-rmse:0.37822\tval-rmse:0.38151\n",
      "[6]\ttrain-rmse:0.35887\tval-rmse:0.36393\n",
      "[7]\ttrain-rmse:0.34177\tval-rmse:0.34838\n",
      "[8]\ttrain-rmse:0.32701\tval-rmse:0.33492\n",
      "[9]\ttrain-rmse:0.31411\tval-rmse:0.32333\n",
      "[10]\ttrain-rmse:0.30326\tval-rmse:0.31427\n",
      "[11]\ttrain-rmse:0.29355\tval-rmse:0.30615\n",
      "[12]\ttrain-rmse:0.28519\tval-rmse:0.29922\n",
      "[13]\ttrain-rmse:0.27760\tval-rmse:0.29269\n"
     ]
    },
    {
     "name": "stdout",
     "output_type": "stream",
     "text": [
      "[14]\ttrain-rmse:0.27116\tval-rmse:0.28796\n",
      "[15]\ttrain-rmse:0.26538\tval-rmse:0.28380\n",
      "[16]\ttrain-rmse:0.26012\tval-rmse:0.27970\n",
      "[17]\ttrain-rmse:0.25583\tval-rmse:0.27661\n",
      "[18]\ttrain-rmse:0.25203\tval-rmse:0.27388\n",
      "[19]\ttrain-rmse:0.24818\tval-rmse:0.27123\n",
      "[20]\ttrain-rmse:0.24512\tval-rmse:0.26882\n",
      "[21]\ttrain-rmse:0.24149\tval-rmse:0.26669\n",
      "[22]\ttrain-rmse:0.23895\tval-rmse:0.26478\n",
      "[23]\ttrain-rmse:0.23594\tval-rmse:0.26331\n",
      "[24]\ttrain-rmse:0.23305\tval-rmse:0.26141\n",
      "[25]\ttrain-rmse:0.23026\tval-rmse:0.25997\n",
      "[26]\ttrain-rmse:0.22720\tval-rmse:0.25799\n",
      "[27]\ttrain-rmse:0.22487\tval-rmse:0.25620\n",
      "[28]\ttrain-rmse:0.22268\tval-rmse:0.25494\n",
      "[29]\ttrain-rmse:0.22084\tval-rmse:0.25374\n",
      "[30]\ttrain-rmse:0.21887\tval-rmse:0.25266\n",
      "[31]\ttrain-rmse:0.21709\tval-rmse:0.25172\n",
      "[32]\ttrain-rmse:0.21505\tval-rmse:0.25075\n",
      "[33]\ttrain-rmse:0.21342\tval-rmse:0.24991\n",
      "[34]\ttrain-rmse:0.21168\tval-rmse:0.24882\n",
      "[35]\ttrain-rmse:0.21020\tval-rmse:0.24826\n",
      "[36]\ttrain-rmse:0.20878\tval-rmse:0.24779\n",
      "[37]\ttrain-rmse:0.20755\tval-rmse:0.24731\n",
      "[38]\ttrain-rmse:0.20625\tval-rmse:0.24668\n",
      "[39]\ttrain-rmse:0.20518\tval-rmse:0.24624\n",
      "[40]\ttrain-rmse:0.20392\tval-rmse:0.24539\n",
      "[41]\ttrain-rmse:0.20285\tval-rmse:0.24501\n",
      "[42]\ttrain-rmse:0.20172\tval-rmse:0.24435\n",
      "[43]\ttrain-rmse:0.20045\tval-rmse:0.24380\n",
      "[44]\ttrain-rmse:0.19900\tval-rmse:0.24311\n",
      "[45]\ttrain-rmse:0.19814\tval-rmse:0.24293\n",
      "[46]\ttrain-rmse:0.19628\tval-rmse:0.24184\n",
      "[47]\ttrain-rmse:0.19561\tval-rmse:0.24159\n",
      "[48]\ttrain-rmse:0.19464\tval-rmse:0.24131\n",
      "[49]\ttrain-rmse:0.19371\tval-rmse:0.24109\n",
      "[50]\ttrain-rmse:0.19215\tval-rmse:0.24020\n",
      "[51]\ttrain-rmse:0.19156\tval-rmse:0.24015\n",
      "[52]\ttrain-rmse:0.19059\tval-rmse:0.23979\n",
      "[53]\ttrain-rmse:0.18985\tval-rmse:0.23958\n",
      "[54]\ttrain-rmse:0.18931\tval-rmse:0.23930\n",
      "[55]\ttrain-rmse:0.18809\tval-rmse:0.23878\n",
      "[56]\ttrain-rmse:0.18734\tval-rmse:0.23853\n",
      "[57]\ttrain-rmse:0.18681\tval-rmse:0.23849\n",
      "[58]\ttrain-rmse:0.18623\tval-rmse:0.23836\n",
      "[59]\ttrain-rmse:0.18561\tval-rmse:0.23835\n",
      "[60]\ttrain-rmse:0.18457\tval-rmse:0.23791\n",
      "[61]\ttrain-rmse:0.18363\tval-rmse:0.23783\n",
      "[62]\ttrain-rmse:0.18310\tval-rmse:0.23788\n",
      "[63]\ttrain-rmse:0.18209\tval-rmse:0.23755\n",
      "[64]\ttrain-rmse:0.18150\tval-rmse:0.23735\n",
      "[65]\ttrain-rmse:0.18063\tval-rmse:0.23698\n",
      "[66]\ttrain-rmse:0.17998\tval-rmse:0.23681\n",
      "[67]\ttrain-rmse:0.17913\tval-rmse:0.23646\n",
      "[68]\ttrain-rmse:0.17843\tval-rmse:0.23628\n",
      "[69]\ttrain-rmse:0.17798\tval-rmse:0.23627\n",
      "[70]\ttrain-rmse:0.17741\tval-rmse:0.23622\n",
      "[71]\ttrain-rmse:0.17685\tval-rmse:0.23607\n",
      "[72]\ttrain-rmse:0.17617\tval-rmse:0.23584\n",
      "[73]\ttrain-rmse:0.17557\tval-rmse:0.23562\n",
      "[74]\ttrain-rmse:0.17522\tval-rmse:0.23537\n",
      "[75]\ttrain-rmse:0.17468\tval-rmse:0.23510\n",
      "[76]\ttrain-rmse:0.17432\tval-rmse:0.23503\n",
      "[77]\ttrain-rmse:0.17395\tval-rmse:0.23494\n",
      "[78]\ttrain-rmse:0.17334\tval-rmse:0.23482\n",
      "[79]\ttrain-rmse:0.17287\tval-rmse:0.23467\n",
      "[80]\ttrain-rmse:0.17242\tval-rmse:0.23453\n",
      "[81]\ttrain-rmse:0.17213\tval-rmse:0.23447\n",
      "[82]\ttrain-rmse:0.17139\tval-rmse:0.23431\n",
      "[83]\ttrain-rmse:0.17105\tval-rmse:0.23428\n",
      "[84]\ttrain-rmse:0.17063\tval-rmse:0.23413\n",
      "[85]\ttrain-rmse:0.17014\tval-rmse:0.23404\n",
      "[86]\ttrain-rmse:0.16966\tval-rmse:0.23401\n",
      "[87]\ttrain-rmse:0.16916\tval-rmse:0.23388\n",
      "[88]\ttrain-rmse:0.16882\tval-rmse:0.23364\n",
      "[89]\ttrain-rmse:0.16835\tval-rmse:0.23339\n",
      "[90]\ttrain-rmse:0.16797\tval-rmse:0.23332\n",
      "[91]\ttrain-rmse:0.16756\tval-rmse:0.23330\n",
      "[92]\ttrain-rmse:0.16707\tval-rmse:0.23298\n",
      "[93]\ttrain-rmse:0.16623\tval-rmse:0.23273\n",
      "[94]\ttrain-rmse:0.16586\tval-rmse:0.23279\n",
      "[95]\ttrain-rmse:0.16562\tval-rmse:0.23276\n",
      "[96]\ttrain-rmse:0.16524\tval-rmse:0.23266\n",
      "[97]\ttrain-rmse:0.16444\tval-rmse:0.23246\n",
      "[98]\ttrain-rmse:0.16383\tval-rmse:0.23222\n",
      "[99]\ttrain-rmse:0.16323\tval-rmse:0.23209\n"
     ]
    },
    {
     "data": {
      "text/plain": [
       "0.23208927121609343"
      ]
     },
     "execution_count": 23,
     "metadata": {},
     "output_type": "execute_result"
    }
   ],
   "source": [
    "#  'eta': 0.1, \n",
    "xgb_params = {\n",
    "    'eta': 0.1, \n",
    "    'max_depth': 6,\n",
    "    'min_child_weight': 1,\n",
    "    \n",
    "    'objective': 'reg:squarederror',\n",
    "    'nthread': 8,\n",
    "    \n",
    "    'seed': 1,\n",
    "    'verbosity': 1,\n",
    "}\n",
    "model = xgb.train(xgb_params, dtrain, num_boost_round=100, evals=watchlist)\n",
    "\n",
    "y_pred = model.predict(dval)\n",
    "rmse = mean_squared_error(y_val,y_pred, squared= False)\n",
    "rmse"
   ]
  }
 ],
 "metadata": {
  "kernelspec": {
   "display_name": "exp-tracking-env",
   "language": "python",
   "name": "python3"
  },
  "language_info": {
   "codemirror_mode": {
    "name": "ipython",
    "version": 3
   },
   "file_extension": ".py",
   "mimetype": "text/x-python",
   "name": "python",
   "nbconvert_exporter": "python",
   "pygments_lexer": "ipython3",
   "version": "3.9.18"
  }
 },
 "nbformat": 4,
 "nbformat_minor": 2
}
